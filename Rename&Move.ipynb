{
 "cells": [
  {
   "cell_type": "code",
   "execution_count": null,
   "metadata": {},
   "outputs": [],
   "source": [
    "import os, shutil as sh"
   ]
  },
  {
   "cell_type": "code",
   "execution_count": null,
   "metadata": {},
   "outputs": [],
   "source": [
    "p_images = os.listdir('/media/ghost/BA5A944C5A9406F3/Linux Transfers/positive_dataset')\n",
    "j=0\n",
    "for p in p_images:\n",
    "    os.rename('/media/ghost/BA5A944C5A9406F3/Linux Transfers/positive_dataset/'+p,'/media/ghost/BA5A944C5A9406F3/Linux Transfers/positive_dataset/pp.'+str(j)+'.jpg')\n",
    "    j=j+1    "
   ]
  },
  {
   "cell_type": "code",
   "execution_count": null,
   "metadata": {},
   "outputs": [],
   "source": [
    "i = 0\n",
    "while i<16000:\n",
    "    sh.copyfile('/media/ghost/BA5A944C5A9406F3/Linux Transfers/positive_dataset/pp.'+str(i)+'.jpg','/media/ghost/BA5A944C5A9406F3/Linux Transfers/dataset/pp.'+str(i)+'.jpg')\n",
    "    i=i+1"
   ]
  },
  {
   "cell_type": "code",
   "execution_count": null,
   "metadata": {
    "scrolled": true
   },
   "outputs": [],
   "source": [
    "i = 0\n",
    "while i<16000:\n",
    "    sh.copyfile('/media/ghost/BA5A944C5A9406F3/Linux Transfers/final_images/pn.'+str(i)+'.jpg','/media/ghost/BA5A944C5A9406F3/Linux Transfers/dataset/pn.'+str(i)+'.jpg')\n",
    "    i=i+1"
   ]
  },
  {
   "cell_type": "code",
   "execution_count": null,
   "metadata": {},
   "outputs": [],
   "source": [
    "i = 16000\n",
    "while i<19000:\n",
    "    sh.copyfile('/media/ghost/BA5A944C5A9406F3/Linux Transfers/positive_dataset/pp.'+str(i)+'.jpg','/media/ghost/BA5A944C5A9406F3/Linux Transfers/test_dataset/pp.'+str(i)+'.jpg')\n",
    "    i=i+1"
   ]
  },
  {
   "cell_type": "code",
   "execution_count": null,
   "metadata": {},
   "outputs": [],
   "source": [
    "i = 16000\n",
    "while i<19000:\n",
    "    sh.copyfile('/media/ghost/BA5A944C5A9406F3/Linux Transfers/final_images/pn.'+str(i)+'.jpg','/media/ghost/BA5A944C5A9406F3/Linux Transfers/test_dataset/pn.'+str(i)+'.jpg')\n",
    "    i=i+1"
   ]
  },
  {
   "cell_type": "code",
   "execution_count": null,
   "metadata": {},
   "outputs": [],
   "source": []
  }
 ],
 "metadata": {
  "kernelspec": {
   "display_name": "Python 3",
   "language": "python",
   "name": "python3"
  },
  "language_info": {
   "codemirror_mode": {
    "name": "ipython",
    "version": 3
   },
   "file_extension": ".py",
   "mimetype": "text/x-python",
   "name": "python",
   "nbconvert_exporter": "python",
   "pygments_lexer": "ipython3",
   "version": "3.5.4"
  }
 },
 "nbformat": 4,
 "nbformat_minor": 2
}
